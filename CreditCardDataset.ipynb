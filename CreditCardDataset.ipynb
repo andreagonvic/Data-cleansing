{
 "cells": [
  {
   "cell_type": "code",
   "execution_count": 33,
   "metadata": {},
   "outputs": [],
   "source": [
    "import numpy as np \n",
    "import pandas as pd\n",
    "import matplotlib.pyplot as plt\n",
    "import seaborn as sns\n",
    "from scipy import stats"
   ]
  },
  {
   "cell_type": "markdown",
   "metadata": {},
   "source": [
    "## 1. Descripción del dataset"
   ]
  },
  {
   "cell_type": "code",
   "execution_count": 34,
   "metadata": {
    "scrolled": true
   },
   "outputs": [
    {
     "data": {
      "text/html": [
       "<div>\n",
       "<style scoped>\n",
       "    .dataframe tbody tr th:only-of-type {\n",
       "        vertical-align: middle;\n",
       "    }\n",
       "\n",
       "    .dataframe tbody tr th {\n",
       "        vertical-align: top;\n",
       "    }\n",
       "\n",
       "    .dataframe thead th {\n",
       "        text-align: right;\n",
       "    }\n",
       "</style>\n",
       "<table border=\"1\" class=\"dataframe\">\n",
       "  <thead>\n",
       "    <tr style=\"text-align: right;\">\n",
       "      <th></th>\n",
       "      <th>CLIENTNUM</th>\n",
       "      <th>Attrition_Flag</th>\n",
       "      <th>Customer_Age</th>\n",
       "      <th>Gender</th>\n",
       "      <th>Dependent_count</th>\n",
       "      <th>Education_Level</th>\n",
       "      <th>Marital_Status</th>\n",
       "      <th>Income_Category</th>\n",
       "      <th>Card_Category</th>\n",
       "      <th>Months_on_book</th>\n",
       "      <th>...</th>\n",
       "      <th>Credit_Limit</th>\n",
       "      <th>Total_Revolving_Bal</th>\n",
       "      <th>Avg_Open_To_Buy</th>\n",
       "      <th>Total_Amt_Chng_Q4_Q1</th>\n",
       "      <th>Total_Trans_Amt</th>\n",
       "      <th>Total_Trans_Ct</th>\n",
       "      <th>Total_Ct_Chng_Q4_Q1</th>\n",
       "      <th>Avg_Utilization_Ratio</th>\n",
       "      <th>Naive_Bayes_Classifier_Attrition_Flag_Card_Category_Contacts_Count_12_mon_Dependent_count_Education_Level_Months_Inactive_12_mon_1</th>\n",
       "      <th>Naive_Bayes_Classifier_Attrition_Flag_Card_Category_Contacts_Count_12_mon_Dependent_count_Education_Level_Months_Inactive_12_mon_2</th>\n",
       "    </tr>\n",
       "  </thead>\n",
       "  <tbody>\n",
       "    <tr>\n",
       "      <th>0</th>\n",
       "      <td>768805383</td>\n",
       "      <td>Existing Customer</td>\n",
       "      <td>45</td>\n",
       "      <td>M</td>\n",
       "      <td>3</td>\n",
       "      <td>High School</td>\n",
       "      <td>Married</td>\n",
       "      <td>$60K - $80K</td>\n",
       "      <td>Blue</td>\n",
       "      <td>39</td>\n",
       "      <td>...</td>\n",
       "      <td>12691.0</td>\n",
       "      <td>777</td>\n",
       "      <td>11914.0</td>\n",
       "      <td>1.335</td>\n",
       "      <td>1144</td>\n",
       "      <td>42</td>\n",
       "      <td>1.625</td>\n",
       "      <td>0.061</td>\n",
       "      <td>0.000093</td>\n",
       "      <td>0.99991</td>\n",
       "    </tr>\n",
       "    <tr>\n",
       "      <th>1</th>\n",
       "      <td>818770008</td>\n",
       "      <td>Existing Customer</td>\n",
       "      <td>49</td>\n",
       "      <td>F</td>\n",
       "      <td>5</td>\n",
       "      <td>Graduate</td>\n",
       "      <td>Single</td>\n",
       "      <td>Less than $40K</td>\n",
       "      <td>Blue</td>\n",
       "      <td>44</td>\n",
       "      <td>...</td>\n",
       "      <td>8256.0</td>\n",
       "      <td>864</td>\n",
       "      <td>7392.0</td>\n",
       "      <td>1.541</td>\n",
       "      <td>1291</td>\n",
       "      <td>33</td>\n",
       "      <td>3.714</td>\n",
       "      <td>0.105</td>\n",
       "      <td>0.000057</td>\n",
       "      <td>0.99994</td>\n",
       "    </tr>\n",
       "    <tr>\n",
       "      <th>2</th>\n",
       "      <td>713982108</td>\n",
       "      <td>Existing Customer</td>\n",
       "      <td>51</td>\n",
       "      <td>M</td>\n",
       "      <td>3</td>\n",
       "      <td>Graduate</td>\n",
       "      <td>Married</td>\n",
       "      <td>$80K - $120K</td>\n",
       "      <td>Blue</td>\n",
       "      <td>36</td>\n",
       "      <td>...</td>\n",
       "      <td>3418.0</td>\n",
       "      <td>0</td>\n",
       "      <td>3418.0</td>\n",
       "      <td>2.594</td>\n",
       "      <td>1887</td>\n",
       "      <td>20</td>\n",
       "      <td>2.333</td>\n",
       "      <td>0.000</td>\n",
       "      <td>0.000021</td>\n",
       "      <td>0.99998</td>\n",
       "    </tr>\n",
       "    <tr>\n",
       "      <th>3</th>\n",
       "      <td>769911858</td>\n",
       "      <td>Existing Customer</td>\n",
       "      <td>40</td>\n",
       "      <td>F</td>\n",
       "      <td>4</td>\n",
       "      <td>High School</td>\n",
       "      <td>Unknown</td>\n",
       "      <td>Less than $40K</td>\n",
       "      <td>Blue</td>\n",
       "      <td>34</td>\n",
       "      <td>...</td>\n",
       "      <td>3313.0</td>\n",
       "      <td>2517</td>\n",
       "      <td>796.0</td>\n",
       "      <td>1.405</td>\n",
       "      <td>1171</td>\n",
       "      <td>20</td>\n",
       "      <td>2.333</td>\n",
       "      <td>0.760</td>\n",
       "      <td>0.000134</td>\n",
       "      <td>0.99987</td>\n",
       "    </tr>\n",
       "    <tr>\n",
       "      <th>4</th>\n",
       "      <td>709106358</td>\n",
       "      <td>Existing Customer</td>\n",
       "      <td>40</td>\n",
       "      <td>M</td>\n",
       "      <td>3</td>\n",
       "      <td>Uneducated</td>\n",
       "      <td>Married</td>\n",
       "      <td>$60K - $80K</td>\n",
       "      <td>Blue</td>\n",
       "      <td>21</td>\n",
       "      <td>...</td>\n",
       "      <td>4716.0</td>\n",
       "      <td>0</td>\n",
       "      <td>4716.0</td>\n",
       "      <td>2.175</td>\n",
       "      <td>816</td>\n",
       "      <td>28</td>\n",
       "      <td>2.500</td>\n",
       "      <td>0.000</td>\n",
       "      <td>0.000022</td>\n",
       "      <td>0.99998</td>\n",
       "    </tr>\n",
       "  </tbody>\n",
       "</table>\n",
       "<p>5 rows × 23 columns</p>\n",
       "</div>"
      ],
      "text/plain": [
       "   CLIENTNUM     Attrition_Flag  Customer_Age Gender  Dependent_count  \\\n",
       "0  768805383  Existing Customer            45      M                3   \n",
       "1  818770008  Existing Customer            49      F                5   \n",
       "2  713982108  Existing Customer            51      M                3   \n",
       "3  769911858  Existing Customer            40      F                4   \n",
       "4  709106358  Existing Customer            40      M                3   \n",
       "\n",
       "  Education_Level Marital_Status Income_Category Card_Category  \\\n",
       "0     High School        Married     $60K - $80K          Blue   \n",
       "1        Graduate         Single  Less than $40K          Blue   \n",
       "2        Graduate        Married    $80K - $120K          Blue   \n",
       "3     High School        Unknown  Less than $40K          Blue   \n",
       "4      Uneducated        Married     $60K - $80K          Blue   \n",
       "\n",
       "   Months_on_book  ...  Credit_Limit  Total_Revolving_Bal  Avg_Open_To_Buy  \\\n",
       "0              39  ...       12691.0                  777          11914.0   \n",
       "1              44  ...        8256.0                  864           7392.0   \n",
       "2              36  ...        3418.0                    0           3418.0   \n",
       "3              34  ...        3313.0                 2517            796.0   \n",
       "4              21  ...        4716.0                    0           4716.0   \n",
       "\n",
       "   Total_Amt_Chng_Q4_Q1  Total_Trans_Amt  Total_Trans_Ct  Total_Ct_Chng_Q4_Q1  \\\n",
       "0                 1.335             1144              42                1.625   \n",
       "1                 1.541             1291              33                3.714   \n",
       "2                 2.594             1887              20                2.333   \n",
       "3                 1.405             1171              20                2.333   \n",
       "4                 2.175              816              28                2.500   \n",
       "\n",
       "   Avg_Utilization_Ratio  \\\n",
       "0                  0.061   \n",
       "1                  0.105   \n",
       "2                  0.000   \n",
       "3                  0.760   \n",
       "4                  0.000   \n",
       "\n",
       "   Naive_Bayes_Classifier_Attrition_Flag_Card_Category_Contacts_Count_12_mon_Dependent_count_Education_Level_Months_Inactive_12_mon_1  \\\n",
       "0                                           0.000093                                                                                    \n",
       "1                                           0.000057                                                                                    \n",
       "2                                           0.000021                                                                                    \n",
       "3                                           0.000134                                                                                    \n",
       "4                                           0.000022                                                                                    \n",
       "\n",
       "   Naive_Bayes_Classifier_Attrition_Flag_Card_Category_Contacts_Count_12_mon_Dependent_count_Education_Level_Months_Inactive_12_mon_2  \n",
       "0                                            0.99991                                                                                   \n",
       "1                                            0.99994                                                                                   \n",
       "2                                            0.99998                                                                                   \n",
       "3                                            0.99987                                                                                   \n",
       "4                                            0.99998                                                                                   \n",
       "\n",
       "[5 rows x 23 columns]"
      ]
     },
     "execution_count": 34,
     "metadata": {},
     "output_type": "execute_result"
    }
   ],
   "source": [
    "#Importamos el dataset sobre el que trabajaremos\n",
    "data = pd.read_csv('BankChurners.csv')\n",
    "\n",
    "#Revisamos sus primeras líneas\n",
    "data.head(5)"
   ]
  },
  {
   "cell_type": "code",
   "execution_count": 35,
   "metadata": {},
   "outputs": [
    {
     "data": {
      "text/html": [
       "<div>\n",
       "<style scoped>\n",
       "    .dataframe tbody tr th:only-of-type {\n",
       "        vertical-align: middle;\n",
       "    }\n",
       "\n",
       "    .dataframe tbody tr th {\n",
       "        vertical-align: top;\n",
       "    }\n",
       "\n",
       "    .dataframe thead th {\n",
       "        text-align: right;\n",
       "    }\n",
       "</style>\n",
       "<table border=\"1\" class=\"dataframe\">\n",
       "  <thead>\n",
       "    <tr style=\"text-align: right;\">\n",
       "      <th></th>\n",
       "      <th>CLIENTNUM</th>\n",
       "      <th>Customer_Age</th>\n",
       "      <th>Dependent_count</th>\n",
       "      <th>Months_on_book</th>\n",
       "      <th>Total_Relationship_Count</th>\n",
       "      <th>Months_Inactive_12_mon</th>\n",
       "      <th>Contacts_Count_12_mon</th>\n",
       "      <th>Credit_Limit</th>\n",
       "      <th>Total_Revolving_Bal</th>\n",
       "      <th>Avg_Open_To_Buy</th>\n",
       "      <th>Total_Amt_Chng_Q4_Q1</th>\n",
       "      <th>Total_Trans_Amt</th>\n",
       "      <th>Total_Trans_Ct</th>\n",
       "      <th>Total_Ct_Chng_Q4_Q1</th>\n",
       "      <th>Avg_Utilization_Ratio</th>\n",
       "      <th>Naive_Bayes_Classifier_Attrition_Flag_Card_Category_Contacts_Count_12_mon_Dependent_count_Education_Level_Months_Inactive_12_mon_1</th>\n",
       "      <th>Naive_Bayes_Classifier_Attrition_Flag_Card_Category_Contacts_Count_12_mon_Dependent_count_Education_Level_Months_Inactive_12_mon_2</th>\n",
       "    </tr>\n",
       "  </thead>\n",
       "  <tbody>\n",
       "    <tr>\n",
       "      <th>count</th>\n",
       "      <td>1.012700e+04</td>\n",
       "      <td>10127.000000</td>\n",
       "      <td>10127.000000</td>\n",
       "      <td>10127.000000</td>\n",
       "      <td>10127.000000</td>\n",
       "      <td>10127.000000</td>\n",
       "      <td>10127.000000</td>\n",
       "      <td>10127.000000</td>\n",
       "      <td>10127.000000</td>\n",
       "      <td>10127.000000</td>\n",
       "      <td>10127.000000</td>\n",
       "      <td>10127.000000</td>\n",
       "      <td>10127.000000</td>\n",
       "      <td>10127.000000</td>\n",
       "      <td>10127.000000</td>\n",
       "      <td>10127.000000</td>\n",
       "      <td>10127.000000</td>\n",
       "    </tr>\n",
       "    <tr>\n",
       "      <th>mean</th>\n",
       "      <td>7.391776e+08</td>\n",
       "      <td>46.325960</td>\n",
       "      <td>2.346203</td>\n",
       "      <td>35.928409</td>\n",
       "      <td>3.812580</td>\n",
       "      <td>2.341167</td>\n",
       "      <td>2.455317</td>\n",
       "      <td>8631.953698</td>\n",
       "      <td>1162.814061</td>\n",
       "      <td>7469.139637</td>\n",
       "      <td>0.759941</td>\n",
       "      <td>4404.086304</td>\n",
       "      <td>64.858695</td>\n",
       "      <td>0.712222</td>\n",
       "      <td>0.274894</td>\n",
       "      <td>0.159997</td>\n",
       "      <td>0.840003</td>\n",
       "    </tr>\n",
       "    <tr>\n",
       "      <th>std</th>\n",
       "      <td>3.690378e+07</td>\n",
       "      <td>8.016814</td>\n",
       "      <td>1.298908</td>\n",
       "      <td>7.986416</td>\n",
       "      <td>1.554408</td>\n",
       "      <td>1.010622</td>\n",
       "      <td>1.106225</td>\n",
       "      <td>9088.776650</td>\n",
       "      <td>814.987335</td>\n",
       "      <td>9090.685324</td>\n",
       "      <td>0.219207</td>\n",
       "      <td>3397.129254</td>\n",
       "      <td>23.472570</td>\n",
       "      <td>0.238086</td>\n",
       "      <td>0.275691</td>\n",
       "      <td>0.365301</td>\n",
       "      <td>0.365301</td>\n",
       "    </tr>\n",
       "    <tr>\n",
       "      <th>min</th>\n",
       "      <td>7.080821e+08</td>\n",
       "      <td>26.000000</td>\n",
       "      <td>0.000000</td>\n",
       "      <td>13.000000</td>\n",
       "      <td>1.000000</td>\n",
       "      <td>0.000000</td>\n",
       "      <td>0.000000</td>\n",
       "      <td>1438.300000</td>\n",
       "      <td>0.000000</td>\n",
       "      <td>3.000000</td>\n",
       "      <td>0.000000</td>\n",
       "      <td>510.000000</td>\n",
       "      <td>10.000000</td>\n",
       "      <td>0.000000</td>\n",
       "      <td>0.000000</td>\n",
       "      <td>0.000008</td>\n",
       "      <td>0.000420</td>\n",
       "    </tr>\n",
       "    <tr>\n",
       "      <th>25%</th>\n",
       "      <td>7.130368e+08</td>\n",
       "      <td>41.000000</td>\n",
       "      <td>1.000000</td>\n",
       "      <td>31.000000</td>\n",
       "      <td>3.000000</td>\n",
       "      <td>2.000000</td>\n",
       "      <td>2.000000</td>\n",
       "      <td>2555.000000</td>\n",
       "      <td>359.000000</td>\n",
       "      <td>1324.500000</td>\n",
       "      <td>0.631000</td>\n",
       "      <td>2155.500000</td>\n",
       "      <td>45.000000</td>\n",
       "      <td>0.582000</td>\n",
       "      <td>0.023000</td>\n",
       "      <td>0.000099</td>\n",
       "      <td>0.999660</td>\n",
       "    </tr>\n",
       "    <tr>\n",
       "      <th>50%</th>\n",
       "      <td>7.179264e+08</td>\n",
       "      <td>46.000000</td>\n",
       "      <td>2.000000</td>\n",
       "      <td>36.000000</td>\n",
       "      <td>4.000000</td>\n",
       "      <td>2.000000</td>\n",
       "      <td>2.000000</td>\n",
       "      <td>4549.000000</td>\n",
       "      <td>1276.000000</td>\n",
       "      <td>3474.000000</td>\n",
       "      <td>0.736000</td>\n",
       "      <td>3899.000000</td>\n",
       "      <td>67.000000</td>\n",
       "      <td>0.702000</td>\n",
       "      <td>0.176000</td>\n",
       "      <td>0.000181</td>\n",
       "      <td>0.999820</td>\n",
       "    </tr>\n",
       "    <tr>\n",
       "      <th>75%</th>\n",
       "      <td>7.731435e+08</td>\n",
       "      <td>52.000000</td>\n",
       "      <td>3.000000</td>\n",
       "      <td>40.000000</td>\n",
       "      <td>5.000000</td>\n",
       "      <td>3.000000</td>\n",
       "      <td>3.000000</td>\n",
       "      <td>11067.500000</td>\n",
       "      <td>1784.000000</td>\n",
       "      <td>9859.000000</td>\n",
       "      <td>0.859000</td>\n",
       "      <td>4741.000000</td>\n",
       "      <td>81.000000</td>\n",
       "      <td>0.818000</td>\n",
       "      <td>0.503000</td>\n",
       "      <td>0.000337</td>\n",
       "      <td>0.999900</td>\n",
       "    </tr>\n",
       "    <tr>\n",
       "      <th>max</th>\n",
       "      <td>8.283431e+08</td>\n",
       "      <td>73.000000</td>\n",
       "      <td>5.000000</td>\n",
       "      <td>56.000000</td>\n",
       "      <td>6.000000</td>\n",
       "      <td>6.000000</td>\n",
       "      <td>6.000000</td>\n",
       "      <td>34516.000000</td>\n",
       "      <td>2517.000000</td>\n",
       "      <td>34516.000000</td>\n",
       "      <td>3.397000</td>\n",
       "      <td>18484.000000</td>\n",
       "      <td>139.000000</td>\n",
       "      <td>3.714000</td>\n",
       "      <td>0.999000</td>\n",
       "      <td>0.999580</td>\n",
       "      <td>0.999990</td>\n",
       "    </tr>\n",
       "  </tbody>\n",
       "</table>\n",
       "</div>"
      ],
      "text/plain": [
       "          CLIENTNUM  Customer_Age  Dependent_count  Months_on_book  \\\n",
       "count  1.012700e+04  10127.000000     10127.000000    10127.000000   \n",
       "mean   7.391776e+08     46.325960         2.346203       35.928409   \n",
       "std    3.690378e+07      8.016814         1.298908        7.986416   \n",
       "min    7.080821e+08     26.000000         0.000000       13.000000   \n",
       "25%    7.130368e+08     41.000000         1.000000       31.000000   \n",
       "50%    7.179264e+08     46.000000         2.000000       36.000000   \n",
       "75%    7.731435e+08     52.000000         3.000000       40.000000   \n",
       "max    8.283431e+08     73.000000         5.000000       56.000000   \n",
       "\n",
       "       Total_Relationship_Count  Months_Inactive_12_mon  \\\n",
       "count              10127.000000            10127.000000   \n",
       "mean                   3.812580                2.341167   \n",
       "std                    1.554408                1.010622   \n",
       "min                    1.000000                0.000000   \n",
       "25%                    3.000000                2.000000   \n",
       "50%                    4.000000                2.000000   \n",
       "75%                    5.000000                3.000000   \n",
       "max                    6.000000                6.000000   \n",
       "\n",
       "       Contacts_Count_12_mon  Credit_Limit  Total_Revolving_Bal  \\\n",
       "count           10127.000000  10127.000000         10127.000000   \n",
       "mean                2.455317   8631.953698          1162.814061   \n",
       "std                 1.106225   9088.776650           814.987335   \n",
       "min                 0.000000   1438.300000             0.000000   \n",
       "25%                 2.000000   2555.000000           359.000000   \n",
       "50%                 2.000000   4549.000000          1276.000000   \n",
       "75%                 3.000000  11067.500000          1784.000000   \n",
       "max                 6.000000  34516.000000          2517.000000   \n",
       "\n",
       "       Avg_Open_To_Buy  Total_Amt_Chng_Q4_Q1  Total_Trans_Amt  Total_Trans_Ct  \\\n",
       "count     10127.000000          10127.000000     10127.000000    10127.000000   \n",
       "mean       7469.139637              0.759941      4404.086304       64.858695   \n",
       "std        9090.685324              0.219207      3397.129254       23.472570   \n",
       "min           3.000000              0.000000       510.000000       10.000000   \n",
       "25%        1324.500000              0.631000      2155.500000       45.000000   \n",
       "50%        3474.000000              0.736000      3899.000000       67.000000   \n",
       "75%        9859.000000              0.859000      4741.000000       81.000000   \n",
       "max       34516.000000              3.397000     18484.000000      139.000000   \n",
       "\n",
       "       Total_Ct_Chng_Q4_Q1  Avg_Utilization_Ratio  \\\n",
       "count         10127.000000           10127.000000   \n",
       "mean              0.712222               0.274894   \n",
       "std               0.238086               0.275691   \n",
       "min               0.000000               0.000000   \n",
       "25%               0.582000               0.023000   \n",
       "50%               0.702000               0.176000   \n",
       "75%               0.818000               0.503000   \n",
       "max               3.714000               0.999000   \n",
       "\n",
       "       Naive_Bayes_Classifier_Attrition_Flag_Card_Category_Contacts_Count_12_mon_Dependent_count_Education_Level_Months_Inactive_12_mon_1  \\\n",
       "count                                       10127.000000                                                                                    \n",
       "mean                                            0.159997                                                                                    \n",
       "std                                             0.365301                                                                                    \n",
       "min                                             0.000008                                                                                    \n",
       "25%                                             0.000099                                                                                    \n",
       "50%                                             0.000181                                                                                    \n",
       "75%                                             0.000337                                                                                    \n",
       "max                                             0.999580                                                                                    \n",
       "\n",
       "       Naive_Bayes_Classifier_Attrition_Flag_Card_Category_Contacts_Count_12_mon_Dependent_count_Education_Level_Months_Inactive_12_mon_2  \n",
       "count                                       10127.000000                                                                                   \n",
       "mean                                            0.840003                                                                                   \n",
       "std                                             0.365301                                                                                   \n",
       "min                                             0.000420                                                                                   \n",
       "25%                                             0.999660                                                                                   \n",
       "50%                                             0.999820                                                                                   \n",
       "75%                                             0.999900                                                                                   \n",
       "max                                             0.999990                                                                                   "
      ]
     },
     "execution_count": 35,
     "metadata": {},
     "output_type": "execute_result"
    }
   ],
   "source": [
    "# Revisamos la estructura general del dataset\n",
    "data.describe()"
   ]
  },
  {
   "cell_type": "code",
   "execution_count": 36,
   "metadata": {},
   "outputs": [
    {
     "name": "stdout",
     "output_type": "stream",
     "text": [
      "<class 'pandas.core.frame.DataFrame'>\n",
      "RangeIndex: 10127 entries, 0 to 10126\n",
      "Data columns (total 23 columns):\n",
      " #   Column                                                                                                                              Non-Null Count  Dtype  \n",
      "---  ------                                                                                                                              --------------  -----  \n",
      " 0   CLIENTNUM                                                                                                                           10127 non-null  int64  \n",
      " 1   Attrition_Flag                                                                                                                      10127 non-null  object \n",
      " 2   Customer_Age                                                                                                                        10127 non-null  int64  \n",
      " 3   Gender                                                                                                                              10127 non-null  object \n",
      " 4   Dependent_count                                                                                                                     10127 non-null  int64  \n",
      " 5   Education_Level                                                                                                                     10127 non-null  object \n",
      " 6   Marital_Status                                                                                                                      10127 non-null  object \n",
      " 7   Income_Category                                                                                                                     10127 non-null  object \n",
      " 8   Card_Category                                                                                                                       10127 non-null  object \n",
      " 9   Months_on_book                                                                                                                      10127 non-null  int64  \n",
      " 10  Total_Relationship_Count                                                                                                            10127 non-null  int64  \n",
      " 11  Months_Inactive_12_mon                                                                                                              10127 non-null  int64  \n",
      " 12  Contacts_Count_12_mon                                                                                                               10127 non-null  int64  \n",
      " 13  Credit_Limit                                                                                                                        10127 non-null  float64\n",
      " 14  Total_Revolving_Bal                                                                                                                 10127 non-null  int64  \n",
      " 15  Avg_Open_To_Buy                                                                                                                     10127 non-null  float64\n",
      " 16  Total_Amt_Chng_Q4_Q1                                                                                                                10127 non-null  float64\n",
      " 17  Total_Trans_Amt                                                                                                                     10127 non-null  int64  \n",
      " 18  Total_Trans_Ct                                                                                                                      10127 non-null  int64  \n",
      " 19  Total_Ct_Chng_Q4_Q1                                                                                                                 10127 non-null  float64\n",
      " 20  Avg_Utilization_Ratio                                                                                                               10127 non-null  float64\n",
      " 21  Naive_Bayes_Classifier_Attrition_Flag_Card_Category_Contacts_Count_12_mon_Dependent_count_Education_Level_Months_Inactive_12_mon_1  10127 non-null  float64\n",
      " 22  Naive_Bayes_Classifier_Attrition_Flag_Card_Category_Contacts_Count_12_mon_Dependent_count_Education_Level_Months_Inactive_12_mon_2  10127 non-null  float64\n",
      "dtypes: float64(7), int64(10), object(6)\n",
      "memory usage: 1.8+ MB\n"
     ]
    }
   ],
   "source": [
    "data.info()"
   ]
  },
  {
   "cell_type": "code",
   "execution_count": 37,
   "metadata": {},
   "outputs": [],
   "source": [
    "# Modificaremos los datos de la variable Income_Category porque vemos que tienen algún caracter raro\n",
    "\n",
    "data.replace({'$60K - $80K':'60K-80K', 'Less than $40K':'-40K', '$80K - $120K':'80K-120K', \n",
    "              '$40K - $60K':'40K-60K','$120K +':'+120K'}, inplace=True)\n"
   ]
  },
  {
   "cell_type": "markdown",
   "metadata": {},
   "source": [
    "## 2. Integración y selección de los datos"
   ]
  },
  {
   "cell_type": "code",
   "execution_count": 38,
   "metadata": {},
   "outputs": [],
   "source": [
    "# Primero debemos deshacernos de las columnas que no son necesarias para el estudio del dataset\n",
    "\n",
    "datos = data.drop(['CLIENTNUM','Total_Amt_Chng_Q4_Q1', 'Total_Ct_Chng_Q4_Q1', \n",
    "                    'Naive_Bayes_Classifier_Attrition_Flag_Card_Category_Contacts_Count_12_mon_Dependent_count_Education_Level_Months_Inactive_12_mon_1', \n",
    "                    'Naive_Bayes_Classifier_Attrition_Flag_Card_Category_Contacts_Count_12_mon_Dependent_count_Education_Level_Months_Inactive_12_mon_2'\n",
    "                   ], axis=1)"
   ]
  },
  {
   "cell_type": "markdown",
   "metadata": {},
   "source": [
    "## 3. Limpieza de los datos"
   ]
  },
  {
   "cell_type": "markdown",
   "metadata": {},
   "source": [
    "### 3.1. ¿Los datos contienen ceros o elementos vacíos? "
   ]
  },
  {
   "cell_type": "code",
   "execution_count": 39,
   "metadata": {
    "scrolled": true
   },
   "outputs": [
    {
     "data": {
      "text/plain": [
       "Attrition_Flag              0\n",
       "Customer_Age                0\n",
       "Gender                      0\n",
       "Dependent_count             0\n",
       "Education_Level             0\n",
       "Marital_Status              0\n",
       "Income_Category             0\n",
       "Card_Category               0\n",
       "Months_on_book              0\n",
       "Total_Relationship_Count    0\n",
       "Months_Inactive_12_mon      0\n",
       "Contacts_Count_12_mon       0\n",
       "Credit_Limit                0\n",
       "Total_Revolving_Bal         0\n",
       "Avg_Open_To_Buy             0\n",
       "Total_Trans_Amt             0\n",
       "Total_Trans_Ct              0\n",
       "Avg_Utilization_Ratio       0\n",
       "dtype: int64"
      ]
     },
     "execution_count": 39,
     "metadata": {},
     "output_type": "execute_result"
    }
   ],
   "source": [
    "# Revisamos si hay datos nulos \n",
    "\n",
    "datos.isnull().sum()"
   ]
  },
  {
   "cell_type": "code",
   "execution_count": 40,
   "metadata": {},
   "outputs": [
    {
     "name": "stdout",
     "output_type": "stream",
     "text": [
      "Attrition_Flag\n",
      "2 ['Existing Customer' 'Attrited Customer']\n",
      "Customer_Age\n",
      "45 [45 49 51 40 44 32 37 48 42 65 56 35 57 41 61 47 62 54 59 63 53 58 55 66\n",
      " 50 38 46 52 39 43 64 68 67 60 73 70 36 34 33 26 31 29 30 28 27]\n",
      "Gender\n",
      "2 ['M' 'F']\n",
      "Dependent_count\n",
      "6 [3 5 4 2 0 1]\n",
      "Education_Level\n",
      "7 ['High School' 'Graduate' 'Uneducated' 'Unknown' 'College' 'Post-Graduate'\n",
      " 'Doctorate']\n",
      "Marital_Status\n",
      "4 ['Married' 'Single' 'Unknown' 'Divorced']\n",
      "Income_Category\n",
      "6 ['60K-80K' '-40K' '80K-120K' '40K-60K' '+120K' 'Unknown']\n",
      "Card_Category\n",
      "4 ['Blue' 'Gold' 'Silver' 'Platinum']\n",
      "Months_on_book\n",
      "44 [39 44 36 34 21 46 27 31 54 30 48 37 56 42 49 33 28 38 41 43 45 52 40 50\n",
      " 35 47 32 20 29 25 53 24 55 23 22 26 13 51 19 15 17 18 16 14]\n",
      "Total_Relationship_Count\n",
      "6 [5 6 4 3 2 1]\n",
      "Months_Inactive_12_mon\n",
      "7 [1 4 2 3 6 0 5]\n",
      "Contacts_Count_12_mon\n",
      "7 [3 2 0 1 4 5 6]\n",
      "Credit_Limit\n",
      "6205 [12691.  8256.  3418. ...  5409.  5281. 10388.]\n",
      "Total_Revolving_Bal\n",
      "1974 [ 777  864    0 ...  534  476 2241]\n",
      "Avg_Open_To_Buy\n",
      "6813 [11914.  7392.  3418. ... 11831.  5409.  8427.]\n",
      "Total_Trans_Amt\n",
      "5033 [ 1144  1291  1887 ... 10291  8395 10294]\n",
      "Total_Trans_Ct\n",
      "126 [ 42  33  20  28  24  31  36  32  26  17  29  27  21  30  16  18  23  22\n",
      "  40  38  25  43  37  19  35  15  41  57  12  14  34  44  13  47  10  39\n",
      "  53  50  52  48  49  45  11  55  46  54  60  51  63  58  59  61  78  64\n",
      "  65  62  67  66  56  69  71  75  74  76  84  82  88  68  70  73  86  72\n",
      "  79  80  85  81  87  83  91  89  77 103  93  96  99  92  90  94  95  98\n",
      " 100 102  97 101 104 105 106 107 109 118 108 122 113 112 111 127 114 124\n",
      " 110 120 125 121 117 126 134 116 119 129 131 115 128 139 123 130 138 132]\n",
      "Avg_Utilization_Ratio\n",
      "964 [0.061 0.105 0.    0.76  0.311 0.066 0.048 0.113 0.144 0.217 0.174 0.195\n",
      " 0.279 0.23  0.078 0.095 0.788 0.08  0.086 0.152 0.626 0.215 0.093 0.099\n",
      " 0.285 0.658 0.69  0.282 0.562 0.135 0.544 0.757 0.241 0.077 0.018 0.355\n",
      " 0.145 0.209 0.793 0.074 0.259 0.591 0.687 0.127 0.667 0.843 0.422 0.156\n",
      " 0.525 0.587 0.211 0.088 0.111 0.044 0.276 0.704 0.656 0.053 0.051 0.467\n",
      " 0.698 0.067 0.079 0.287 0.36  0.256 0.719 0.198 0.14  0.035 0.619 0.108\n",
      " 0.062 0.765 0.963 0.524 0.347 0.45  0.232 0.299 0.085 0.059 0.43  0.62\n",
      " 0.027 0.169 0.058 0.223 0.057 0.513 0.473 0.047 0.106 0.05  0.03  0.615\n",
      " 0.15  0.407 0.191 0.096 0.176 0.83  0.412 0.678 0.246 0.271 0.114 0.395\n",
      " 0.406 0.258 0.178 0.941 0.141 0.118 0.119 0.64  0.432 0.612 0.359 0.309\n",
      " 0.101 0.607 0.512 0.806 0.463 0.77  0.076 0.133 0.037 0.146 0.171 0.069\n",
      " 0.837 0.055 0.294 0.39  0.19  0.692 0.503 0.251 0.11  0.087 0.214 0.164\n",
      " 0.049 0.043 0.679 0.098 0.694 0.039 0.199 0.22  0.13  0.202 0.319 0.165\n",
      " 0.863 0.665 0.598 0.539 0.472 0.064 0.16  0.42  0.713 0.092 0.336 0.666\n",
      " 0.147 0.987 0.073 0.88  0.28  0.65  0.761 0.072 0.327 0.459 0.252 0.244\n",
      " 0.291 0.46  0.489 0.482 0.24  0.197 0.866 0.317 0.762 0.162 0.196 0.734\n",
      " 0.446 0.262 0.042 0.094 0.308 0.68  0.238 0.753 0.877 0.724 0.117 0.638\n",
      " 0.102 0.131 0.255 0.716 0.609 0.405 0.154 0.605 0.275 0.06  0.07  0.186\n",
      " 0.648 0.167 0.153 0.79  0.732 0.123 0.221 0.2   0.063 0.785 0.771 0.224\n",
      " 0.795 0.187 0.583 0.316 0.447 0.625 0.514 0.557 0.955 0.867 0.846 0.756\n",
      " 0.31  0.373 0.935 0.155 0.435 0.932 0.829 0.953 0.188 0.82  0.616 0.595\n",
      " 0.521 0.268 0.09  0.885 0.546 0.569 0.183 0.639 0.329 0.274 0.161 0.865\n",
      " 0.73  0.134 0.137 0.478 0.361 0.312 0.036 0.243 0.805 0.168 0.103 0.179\n",
      " 0.529 0.227 0.706 0.075 0.804 0.708 0.766 0.381 0.046 0.428 0.112 0.041\n",
      " 0.85  0.517 0.72  0.056 0.548 0.436 0.201 0.523 0.081 0.403 0.671 0.752\n",
      " 0.194 0.657 0.476 0.729 0.911 0.78  0.35  0.636 0.632 0.226 0.798 0.781\n",
      " 0.148 0.029 0.12  0.651 0.257 0.204 0.231 0.18  0.617 0.458 0.142 0.054\n",
      " 0.374 0.491 0.216 0.572 0.32  0.212 0.545 0.314 0.393 0.599 0.33  0.663\n",
      " 0.159 0.185 0.371 0.506 0.448 0.128 0.269 0.333 0.125 0.091 0.53  0.303\n",
      " 0.682 0.456 0.584 0.337 0.51  0.819 0.543 0.81  0.189 0.213 0.068 0.033\n",
      " 0.261 0.071 0.41  0.712 0.515 0.593 0.203 0.286 0.457 0.654 0.122 0.345\n",
      " 0.825 0.1   0.206 0.976 0.17  0.292 0.139 0.109 0.278 0.324 0.745 0.402\n",
      " 0.397 0.045 0.177 0.611 0.284 0.578 0.318 0.803 0.594 0.684 0.019 0.722\n",
      " 0.032 0.115 0.511 0.306 0.104 0.219 0.709 0.621 0.082 0.553 0.465 0.707\n",
      " 0.166 0.859 0.677 0.253 0.586 0.425 0.801 0.084 0.645 0.149 0.343 0.878\n",
      " 0.304 0.814 0.342 0.848 0.163 0.222 0.469 0.519 0.272 0.325 0.702 0.181\n",
      " 0.693 0.809 0.479 0.468 0.356 0.811 0.34  0.63  0.372 0.637 0.507 0.749\n",
      " 0.129 0.674 0.794 0.582 0.464 0.065 0.315 0.691 0.501 0.218 0.56  0.175\n",
      " 0.5   0.378 0.613 0.313 0.727 0.239 0.603 0.57  0.27  0.034 0.247 0.737\n",
      " 0.124 0.589 0.534 0.237 0.136 0.789 0.777 0.52  0.653 0.016 0.346 0.721\n",
      " 0.675 0.138 0.266 0.442 0.326 0.301 0.717 0.023 0.025 0.25  0.281 0.796\n",
      " 0.296 0.334 0.471 0.571 0.352 0.143 0.608 0.775 0.67  0.321 0.696 0.689\n",
      " 0.624 0.408 0.157 0.439 0.672 0.302 0.225 0.357 0.527 0.431 0.831 0.755\n",
      " 0.786 0.026 0.659 0.416 0.451 0.052 0.404 0.394 0.391 0.736 0.854 0.791\n",
      " 0.126 0.363 0.874 0.297 0.341 0.344 0.208 0.733 0.234 0.116 0.828 0.365\n",
      " 0.182 0.384 0.526 0.396 0.031 0.516 0.748 0.354 0.349 0.233 0.497 0.248\n",
      " 0.339 0.132 0.588 0.764 0.705 0.575 0.536 0.021 0.205 0.835 0.549 0.74\n",
      " 0.889 0.083 0.596 0.735 0.827 0.522 0.711 0.377 0.351 0.242 0.366 0.697\n",
      " 0.328 0.778 0.743 0.492 0.715 0.623 0.488 0.263 0.568 0.089 0.779 0.47\n",
      " 0.264 0.415 0.58  0.452 0.289 0.635 0.229 0.75  0.695 0.6   0.784 0.173\n",
      " 0.822 0.812 0.265 0.574 0.475 0.295 0.662 0.3   0.566 0.994 0.669 0.04\n",
      " 0.856 0.532 0.461 0.559 0.331 0.602 0.445 0.466 0.597 0.646 0.474 0.305\n",
      " 0.556 0.742 0.631 0.718 0.606 0.647 0.758 0.644 0.499 0.873 0.245 0.487\n",
      " 0.558 0.49  0.121 0.869 0.797 0.437 0.772 0.7   0.934 0.857 0.015 0.547\n",
      " 0.353 0.699 0.495 0.409 0.29  0.293 0.494 0.477 0.235 0.894 0.417 0.881\n",
      " 0.207 0.928 0.484 0.852 0.038 0.228 0.643 0.655 0.283 0.642 0.581 0.379\n",
      " 0.542 0.579 0.434 0.44  0.535 0.913 0.776 0.551 0.401 0.273 0.172 0.375\n",
      " 0.714 0.668 0.362 0.833 0.633 0.783 0.614 0.763 0.844 0.744 0.61  0.453\n",
      " 0.481 0.563 0.418 0.399 0.348 0.59  0.413 0.498 0.267 0.398 0.386 0.815\n",
      " 0.249 0.429 0.799 0.751 0.821 0.323 0.107 0.807 0.816 0.99  0.573 0.449\n",
      " 0.883 0.768 0.925 0.773 0.38  0.604 0.411 0.832 0.184 0.438 0.552 0.792\n",
      " 0.376 0.641 0.37  0.158 0.426 0.277 0.493 0.629 0.02  0.236 0.21  0.726\n",
      " 0.531 0.92  0.949 0.628 0.731 0.518 0.358 0.554 0.893 0.943 0.944 0.601\n",
      " 0.307 0.725 0.368 0.924 0.661 0.151 0.769 0.576 0.424 0.664 0.024 0.922\n",
      " 0.537 0.884 0.483 0.462 0.899 0.622 0.013 0.954 0.683 0.192 0.774 0.824\n",
      " 0.858 0.984 0.414 0.561 0.879 0.504 0.509 0.968 0.918 0.836 0.332 0.028\n",
      " 0.938 0.541 0.48  0.533 0.528 0.254 0.423 0.288 0.369 0.93  0.813 0.915\n",
      " 0.364 0.688 0.902 0.868 0.942 0.567 0.022 0.703 0.585 0.906 0.754 0.855\n",
      " 0.839 0.681 0.298 0.872 0.455 0.929 0.008 0.388 0.912 0.322 0.853 0.454\n",
      " 0.685 0.747 0.66  0.904 0.738 0.485 0.496 0.577 0.927 0.746 0.565 0.634\n",
      " 0.887 0.845 0.951 0.444 0.427 0.962 0.564 0.851 0.897 0.876 0.421 0.012\n",
      " 0.649 0.759 0.84  0.842 0.87  0.097 0.983 0.433 0.387 0.441 0.767 0.903\n",
      " 0.592 0.895 0.896 0.652 0.8   0.4   0.017 0.862 0.849 0.676 0.999 0.921\n",
      " 0.673 0.948 0.004 0.864 0.55  0.787 0.392 0.443 0.505 0.538 0.71  0.367\n",
      " 0.985 0.741 0.826 0.817 0.508 0.26  0.618 0.94  0.916 0.823 0.9   0.193\n",
      " 0.419 0.841 0.919 0.959 0.723 0.486 0.54  0.905 0.385 0.782 0.006 0.502\n",
      " 0.802 0.875 0.931 0.011 0.926 0.728 0.382 0.335 0.891 0.871 0.701 0.739\n",
      " 0.383 0.834 0.898 0.389 0.901 0.988 0.907 0.686 0.86  0.882 0.861 0.917\n",
      " 0.555 0.808 0.338 0.96  0.972 0.01  0.847 0.964 0.886 0.995 0.818 0.958\n",
      " 0.627 0.992 0.952 0.91  0.978 0.973 0.971 0.945 0.914 0.977 0.956 0.909\n",
      " 0.005 0.007 0.014 0.009]\n"
     ]
    }
   ],
   "source": [
    "# Revisamos que no haya datos mal escritos o incorrectos (basándonos en la explicacion del dataset https://www.kaggle.com/sakshigoyal7/credit-card-customers)\n",
    "    \n",
    "for i in datos.columns:\n",
    "    print(datos[i].name)\n",
    "    print(len(datos[i].unique()), datos[i].unique())"
   ]
  },
  {
   "cell_type": "code",
   "execution_count": 41,
   "metadata": {},
   "outputs": [
    {
     "data": {
      "text/plain": [
       "0"
      ]
     },
     "execution_count": 41,
     "metadata": {},
     "output_type": "execute_result"
    }
   ],
   "source": [
    "# Revisamos si hay duplicados\n",
    "\n",
    "duplicados = datos.duplicated() \n",
    "duplicados.sum()"
   ]
  },
  {
   "cell_type": "markdown",
   "metadata": {},
   "source": [
    "### 3.2. Identificación y tratamiento de valores extremos."
   ]
  },
  {
   "cell_type": "code",
   "execution_count": 42,
   "metadata": {},
   "outputs": [],
   "source": [
    "# Descartamos los outilers con el método del z-score\n",
    "# Dividimos las columnas del dataset en numéricas y categóricas\n",
    "\n",
    "num_datos = datos.select_dtypes(include=[\"number\"])\n",
    "cat_datos = datos.select_dtypes(exclude=[\"number\"])\n",
    "\n",
    "outliers_row = np.all(stats.zscore(num_datos) < 3, axis=1)\n",
    "\n",
    "datos_cleaned = pd.concat([num_datos.loc[outliers_row], cat_datos.loc[outliers_row]], axis=1)"
   ]
  },
  {
   "cell_type": "code",
   "execution_count": 43,
   "metadata": {},
   "outputs": [
    {
     "name": "stdout",
     "output_type": "stream",
     "text": [
      "<class 'pandas.core.frame.DataFrame'>\n",
      "Int64Index: 9560 entries, 0 to 10126\n",
      "Data columns (total 18 columns):\n",
      " #   Column                    Non-Null Count  Dtype  \n",
      "---  ------                    --------------  -----  \n",
      " 0   Customer_Age              9560 non-null   int64  \n",
      " 1   Dependent_count           9560 non-null   int64  \n",
      " 2   Months_on_book            9560 non-null   int64  \n",
      " 3   Total_Relationship_Count  9560 non-null   int64  \n",
      " 4   Months_Inactive_12_mon    9560 non-null   int64  \n",
      " 5   Contacts_Count_12_mon     9560 non-null   int64  \n",
      " 6   Credit_Limit              9560 non-null   float64\n",
      " 7   Total_Revolving_Bal       9560 non-null   int64  \n",
      " 8   Avg_Open_To_Buy           9560 non-null   float64\n",
      " 9   Total_Trans_Amt           9560 non-null   int64  \n",
      " 10  Total_Trans_Ct            9560 non-null   int64  \n",
      " 11  Avg_Utilization_Ratio     9560 non-null   float64\n",
      " 12  Attrition_Flag            9560 non-null   object \n",
      " 13  Gender                    9560 non-null   object \n",
      " 14  Education_Level           9560 non-null   object \n",
      " 15  Marital_Status            9560 non-null   object \n",
      " 16  Income_Category           9560 non-null   object \n",
      " 17  Card_Category             9560 non-null   object \n",
      "dtypes: float64(3), int64(9), object(6)\n",
      "memory usage: 1.4+ MB\n"
     ]
    }
   ],
   "source": [
    "datos_cleaned.info()"
   ]
  },
  {
   "cell_type": "markdown",
   "metadata": {},
   "source": [
    "## 4. Análisis de los datos"
   ]
  },
  {
   "cell_type": "code",
   "execution_count": 44,
   "metadata": {},
   "outputs": [
    {
     "name": "stderr",
     "output_type": "stream",
     "text": [
      "/opt/anaconda3/lib/python3.7/site-packages/ipykernel_launcher.py:4: UserWarning: Pandas doesn't allow columns to be created via a new attribute name - see https://pandas.pydata.org/pandas-docs/stable/indexing.html#attribute-access\n",
      "  after removing the cwd from sys.path.\n",
      "/opt/anaconda3/lib/python3.7/site-packages/ipykernel_launcher.py:5: UserWarning: Pandas doesn't allow columns to be created via a new attribute name - see https://pandas.pydata.org/pandas-docs/stable/indexing.html#attribute-access\n",
      "  \"\"\"\n",
      "/opt/anaconda3/lib/python3.7/site-packages/ipykernel_launcher.py:8: UserWarning: Pandas doesn't allow columns to be created via a new attribute name - see https://pandas.pydata.org/pandas-docs/stable/indexing.html#attribute-access\n",
      "  \n",
      "/opt/anaconda3/lib/python3.7/site-packages/ipykernel_launcher.py:9: UserWarning: Pandas doesn't allow columns to be created via a new attribute name - see https://pandas.pydata.org/pandas-docs/stable/indexing.html#attribute-access\n",
      "  if __name__ == '__main__':\n",
      "/opt/anaconda3/lib/python3.7/site-packages/ipykernel_launcher.py:12: UserWarning: Pandas doesn't allow columns to be created via a new attribute name - see https://pandas.pydata.org/pandas-docs/stable/indexing.html#attribute-access\n",
      "  if sys.path[0] == '':\n",
      "/opt/anaconda3/lib/python3.7/site-packages/ipykernel_launcher.py:13: UserWarning: Pandas doesn't allow columns to be created via a new attribute name - see https://pandas.pydata.org/pandas-docs/stable/indexing.html#attribute-access\n",
      "  del sys.path[0]\n",
      "/opt/anaconda3/lib/python3.7/site-packages/ipykernel_launcher.py:14: UserWarning: Pandas doesn't allow columns to be created via a new attribute name - see https://pandas.pydata.org/pandas-docs/stable/indexing.html#attribute-access\n",
      "  \n",
      "/opt/anaconda3/lib/python3.7/site-packages/ipykernel_launcher.py:15: UserWarning: Pandas doesn't allow columns to be created via a new attribute name - see https://pandas.pydata.org/pandas-docs/stable/indexing.html#attribute-access\n",
      "  from ipykernel import kernelapp as app\n"
     ]
    }
   ],
   "source": [
    "# Hacemos grupos para luego analizarlos y compararlos\n",
    "\n",
    "# Agrupación por sexo\n",
    "datos_cleaned.mujer = datos_cleaned[datos_cleaned['Gender'] == \"F\"]\n",
    "datos_cleaned.hombre = datos_cleaned[datos_cleaned['Gender'] == \"M\"]\n",
    "\n",
    "# Agrupación por tipo de cliente\n",
    "datos_cleaned.existente = datos_cleaned[datos_cleaned['Attrition_Flag'] == \"Existing Customer\"]\n",
    "datos_cleaned.abandonado = datos_cleaned[datos_cleaned['Attrition_Flag'] == \"Attrited Customer\"]\n",
    "\n",
    "# Agrupación por tipo de tarjeta\n",
    "datos_cleaned.azul = datos_cleaned[datos_cleaned['Card_Category'] == \"Blue\"]\n",
    "datos_cleaned.oro = datos_cleaned[datos_cleaned['Card_Category'] == \"Gold\"]\n",
    "datos_cleaned.plata = datos_cleaned[datos_cleaned['Card_Category'] == \"Silver\"]\n",
    "datos_cleaned.platino = datos_cleaned[datos_cleaned['Card_Category'] == \"Platinum\"]"
   ]
  },
  {
   "cell_type": "code",
   "execution_count": 45,
   "metadata": {},
   "outputs": [
    {
     "name": "stdout",
     "output_type": "stream",
     "text": [
      "\n",
      "______________Agrupación por sexo_______________\n",
      "Hombres:  4443\n",
      "Mujeres:  5117\n",
      "\n",
      "______________Agrupación por cliente_______________\n",
      "Clientes existentes:  8005\n",
      "Clientes que se han ido:  1555\n",
      "\n",
      "______________Agrupación por tipo de tarjeta _______________\n",
      "Tarjeta azul:  8966\n",
      "Tarjeta oro:  96\n",
      "Tarjeta plata:  481\n",
      "Tarjeta platino:  17\n"
     ]
    }
   ],
   "source": [
    "#Vemos las agrupaciones que hemos hecho\n",
    "\n",
    "# Agrupación por sexo\n",
    "print(\"\\n______________Agrupación por sexo_______________\")\n",
    "print(\"Hombres: \", datos_cleaned.hombre.shape[0])\n",
    "print(\"Mujeres: \", datos_cleaned.mujer.shape[0])\n",
    "\n",
    "# Agrupación por tipo de cliente            \n",
    "print(\"\\n______________Agrupación por cliente_______________\")\n",
    "print(\"Clientes existentes: \", datos_cleaned.existente.shape[0])\n",
    "print(\"Clientes que se han ido: \", datos_cleaned.abandonado.shape[0])\n",
    "# Agrupación por tipo de tarjeta            \n",
    "print(\"\\n______________Agrupación por tipo de tarjeta _______________\")\n",
    "print(\"Tarjeta azul: \", datos_cleaned.azul.shape[0])\n",
    "print(\"Tarjeta oro: \", datos_cleaned.oro.shape[0])\n",
    "print(\"Tarjeta plata: \", datos_cleaned.plata.shape[0])\n",
    "print(\"Tarjeta platino: \", datos_cleaned.platino.shape[0])"
   ]
  },
  {
   "cell_type": "code",
   "execution_count": 72,
   "metadata": {},
   "outputs": [
    {
     "data": {
      "image/png": "[encoded data removed]",
      "text/plain": [
       "<Figure size 504x504 with 1 Axes>"
      ]
     },
     "metadata": {},
     "output_type": "display_data"
    }
   ],
   "source": [
    "#Vamos a ver que cantidad de consumidores siguen existiendo, y cuánto se han ido de la entidad.\n",
    "x=pd.value_counts(datos_cleaned[\"Attrition_Flag\"])\n",
    "\n",
    "import matplotlib.pyplot as plt\n",
    "fig, ax = plt.subplots(figsize=(7, 7))\n",
    "ax.pie(x, labels=[\"Existing\",\"Attrited\"], autopct=lambda p:f'{p:.2f}%')\n",
    "ax.set_title('Percentage of existing and attrited customers')\n",
    "plt.show()"
   ]
  },
  {
   "cell_type": "markdown",
   "metadata": {},
   "source": [
    "Según los datos obtenidos en el gráfico anterior, sabemos que la mayoría de los usuarios de nuestra base da datos, se quedan en la misma entidad (83.73%), mientras que el 16.27% se ha ido"
   ]
  },
  {
   "cell_type": "code",
   "execution_count": 47,
   "metadata": {},
   "outputs": [
    {
     "data": {
      "image/png": "[encoded data removed]",
      "text/plain": [
       "<Figure size 720x360 with 1 Axes>"
      ]
     },
     "metadata": {
      "needs_background": "light"
     },
     "output_type": "display_data"
    }
   ],
   "source": [
    "#Para poder ver que cantidad de clientes existentes y clientes que se han ido de la entidad tenemos, realizamos un gráfico para cada variable\n",
    "plt.figure(figsize=(10,5))\n",
    "plot=sns.countplot(x=datos_cleaned.Gender,hue=datos_cleaned.Attrition_Flag)\n",
    "plt.title(\"Género y Clientes\")\n",
    "\n",
    "total_mujer = len(datos_cleaned.mujer)\n",
    "total_hombre = len(datos_cleaned.hombre)\n",
    "i = 0\n",
    "for p in plot.patches:\n",
    "    if (i % 2 == 0):\n",
    "        percentage = '{:.1f}%'.format(100 * p.get_height()/total_hombre)\n",
    "    else:\n",
    "        percentage = '{:.1f}%'.format(100 * p.get_height()/total_mujer) \n",
    "    x = p.get_x() + p.get_width()/2\n",
    "    y = p.get_y() + p.get_height()/2\n",
    "    plot.annotate(percentage, (x, y), horizontalalignment='center', verticalalignment='center')\n",
    "    i+=1\n",
    "        \n",
    "plt.show()       "
   ]
  },
  {
   "cell_type": "markdown",
   "metadata": {},
   "source": [
    "En el siguiente gráfico encontramos el nivel de educacion de los clientes.\n",
    "La mayoría de ellos (un 70.4% del total), tiene algún tipo de estudios (secundaria, universidad, graduados, postgraduados, doctorados...), pero entorno al 14.6 por cierto, no los tienen.\n",
    "Existe una pequña parte de la población (el 15%) del cual no conocemos si tiene estudios o si no los tiene."
   ]
  },
  {
   "cell_type": "code",
   "execution_count": 76,
   "metadata": {},
   "outputs": [
    {
     "data": {
      "image/png": "[encoded data removed]",
      "text/plain": [
       "<Figure size 720x360 with 1 Axes>"
      ]
     },
     "metadata": {
      "needs_background": "light"
     },
     "output_type": "display_data"
    },
    {
     "name": "stdout",
     "output_type": "stream",
     "text": [
      "El número total de personas sin estudios es: 1400, lo que representa un 14.6 % de los clientes\n",
      "El número total de personas con algún estudio a partir de secundaria es: 6730, lo que representa un 70.4 % de los clientes\n",
      "Existen 1430 personas que no sabemos su nivel de estudios, lo que representa un 15.0 % de los clientes\n"
     ]
    }
   ],
   "source": [
    "plt.figure(figsize=(10,5))\n",
    "plot=sns.countplot(x=datos_cleaned.Education_Level,hue=datos_cleaned.Attrition_Flag,\n",
    "                   order=['Unknown', 'Uneducated', 'High School', 'College', 'Graduate', 'Post-Graduate', 'Doctorate'])\n",
    "plt.title(\"Nivel de Educación y Clientes\")\n",
    "\n",
    "total_Unknown = len(datos_cleaned[datos_cleaned['Education_Level'] == \"Unknown\"])\n",
    "total_Uneducated = len(datos_cleaned[datos_cleaned['Education_Level'] == \"Uneducated\"])\n",
    "total_High_School = len(datos_cleaned[datos_cleaned['Education_Level'] == \"High School\"])\n",
    "total_College = len(datos_cleaned[datos_cleaned['Education_Level'] == \"College\"])\n",
    "total_Graduate = len(datos_cleaned[datos_cleaned['Education_Level'] == \"Graduate\"])\n",
    "total_Post_Graduate = len(datos_cleaned[datos_cleaned['Education_Level'] == \"Post-Graduate\"])\n",
    "total_Doctorate = len(datos_cleaned[datos_cleaned['Education_Level'] == \"Doctorate\"])\n",
    "i = 0\n",
    "for p in plot.patches:\n",
    "    if (i == 0 or i == 7):\n",
    "        percentage = '{:.1f}%'.format(100 * p.get_height()/total_Unknown)\n",
    "    elif (i == 1 or i == 8):\n",
    "        percentage = '{:.1f}%'.format(100 * p.get_height()/total_Uneducated)\n",
    "    elif (i == 2 or i == 9):\n",
    "        percentage = '{:.1f}%'.format(100 * p.get_height()/total_High_School)\n",
    "    elif (i == 3 or i == 10):\n",
    "        percentage = '{:.1f}%'.format(100 * p.get_height()/total_College)\n",
    "    elif (i == 4 or i == 11):\n",
    "        percentage = '{:.1f}%'.format(100 * p.get_height()/total_Graduate)\n",
    "    elif (i == 5 or i == 12):\n",
    "        percentage = '{:.1f}%'.format(100 * p.get_height()/total_Post_Graduate)\n",
    "    else:\n",
    "        percentage = '{:.1f}%'.format(100 * p.get_height()/total_Doctorate) \n",
    "    x = p.get_x() + p.get_width()/2\n",
    "    y = p.get_y() + p.get_height()/2\n",
    "    plot.annotate(percentage, (x, y), horizontalalignment='center', verticalalignment='center')\n",
    "    i+=1\n",
    "    \n",
    "plt.show()\n",
    "total_clientes=len(datos_cleaned['Education_Level'])\n",
    "suma=total_High_School+total_College+total_Graduate+total_Post_Graduate+total_Doctorate\n",
    "print(\"El número total de personas sin estudios es: {}, lo que representa un {:.1f} % de los clientes\".format(total_Uneducated,total_Uneducated*100/total_clientes))\n",
    "print(\"El número total de personas con algún estudio a partir de secundaria es: {}, lo que representa un {:.1f} % de los clientes\".format(suma,suma*100/total_clientes))\n",
    "print(\"Existen {} personas que no sabemos su nivel de estudios, lo que representa un {:.1f} % de los clientes\".format(total_Unknown,total_Unknown*100/total_clientes))"
   ]
  },
  {
   "cell_type": "markdown",
   "metadata": {},
   "source": [
    "En la siguiente figura, podemos apreciar que la mayoría de los usuarios están casados, de los cuales el 84.5% se queda en la entidad."
   ]
  },
  {
   "cell_type": "code",
   "execution_count": 49,
   "metadata": {
    "scrolled": false
   },
   "outputs": [
    {
     "data": {
      "image/png": "[encoded data removed]",
      "text/plain": [
       "<Figure size 720x360 with 1 Axes>"
      ]
     },
     "metadata": {
      "needs_background": "light"
     },
     "output_type": "display_data"
    }
   ],
   "source": [
    "plt.figure(figsize=(10,5))\n",
    "plot=sns.countplot(x=datos_cleaned.Marital_Status,hue=datos_cleaned.Attrition_Flag,\n",
    "                  order=['Married', 'Single', 'Divorced','Unknown'])\n",
    "plt.title(\"Estado civil y Clientes\")\n",
    "\n",
    "total_married = len(datos_cleaned[datos_cleaned['Marital_Status'] == \"Married\"])\n",
    "total_single = len(datos_cleaned[datos_cleaned['Marital_Status'] == \"Single\"])\n",
    "total_divorced = len(datos_cleaned[datos_cleaned['Marital_Status'] == \"Divorced\"])\n",
    "total_unknown = len(datos_cleaned[datos_cleaned['Marital_Status'] == \"Unknown\"])\n",
    "i = 0\n",
    "for p in plot.patches:\n",
    "    if (i == 0 or i == 4):\n",
    "        percentage = '{:.1f}%'.format(100 * p.get_height()/total_married)\n",
    "    elif (i == 1 or i == 5):\n",
    "        percentage = '{:.1f}%'.format(100 * p.get_height()/total_single)\n",
    "    elif (i == 2 or i == 6):\n",
    "        percentage = '{:.1f}%'.format(100 * p.get_height()/total_divorced)\n",
    "    else:\n",
    "        percentage = '{:.1f}%'.format(100 * p.get_height()/total_unknown) \n",
    "    x = p.get_x() + p.get_width()/2\n",
    "    y = p.get_y() + p.get_height()/2\n",
    "    plot.annotate(percentage, (x, y), horizontalalignment='center', verticalalignment='center')\n",
    "    i+=1\n",
    "\n",
    "plt.show()"
   ]
  },
  {
   "cell_type": "markdown",
   "metadata": {},
   "source": [
    "Entre los gráficos mostrados, tambien podemos comprobar que la gran mayoría de los usuarios, tiene la tarjeta Blue."
   ]
  },
  {
   "cell_type": "code",
   "execution_count": 50,
   "metadata": {},
   "outputs": [
    {
     "data": {
      "image/png": "[encoded data removed]",
      "text/plain": [
       "<Figure size 720x360 with 1 Axes>"
      ]
     },
     "metadata": {
      "needs_background": "light"
     },
     "output_type": "display_data"
    }
   ],
   "source": [
    "plt.figure(figsize=(10,5))\n",
    "plot=sns.countplot(x=datos_cleaned.Card_Category,hue=datos_cleaned.Attrition_Flag)\n",
    "plt.title(\"Categoría de la Tarjeta y Clientes\")\n",
    "\n",
    "total_azul = len(datos_cleaned.azul)\n",
    "total_oro = len(datos_cleaned.oro)\n",
    "total_plata = len(datos_cleaned.plata)\n",
    "total_platino = len(datos_cleaned.platino)\n",
    "i = 0\n",
    "for p in plot.patches:\n",
    "    if (i == 0 or i == 4):\n",
    "        percentage = '{:.1f}%'.format(100 * p.get_height()/total_azul)\n",
    "    elif (i == 1 or i == 5):\n",
    "        percentage = '{:.1f}%'.format(100 * p.get_height()/total_oro)\n",
    "    elif (i == 2 or i == 6):\n",
    "        percentage = '{:.1f}%'.format(100 * p.get_height()/total_plata)\n",
    "    else:\n",
    "        percentage = '{:.1f}%'.format(100 * p.get_height()/total_platino) \n",
    "    x = p.get_x() + p.get_width()/2\n",
    "    y = p.get_y() + p.get_height()/2\n",
    "    plot.annotate(percentage, (x, y), horizontalalignment='center', verticalalignment='center')\n",
    "    i+=1\n",
    "\n",
    "plt.show()"
   ]
  },
  {
   "cell_type": "code",
   "execution_count": 51,
   "metadata": {},
   "outputs": [
    {
     "data": {
      "image/png": "[encoded data removed]",
      "text/plain": [
       "<Figure size 936x504 with 1 Axes>"
      ]
     },
     "metadata": {
      "needs_background": "light"
     },
     "output_type": "display_data"
    }
   ],
   "source": [
    "plt.figure(figsize=(13,7))\n",
    "plot=sns.countplot(x=datos_cleaned.Customer_Age,hue=datos_cleaned.Attrition_Flag)\n",
    "plt.title(\"Edad y Clientes\")\n",
    "plt.show()"
   ]
  },
  {
   "cell_type": "markdown",
   "metadata": {},
   "source": [
    "Sobre los ingresos de los usuarios, se puede apreciar que la gran mayoría tiene ingresos menores a 40K $."
   ]
  },
  {
   "cell_type": "code",
   "execution_count": 52,
   "metadata": {},
   "outputs": [
    {
     "data": {
      "image/png": "[encoded data removed]",
      "text/plain": [
       "<Figure size 720x360 with 1 Axes>"
      ]
     },
     "metadata": {
      "needs_background": "light"
     },
     "output_type": "display_data"
    }
   ],
   "source": [
    "plt.figure(figsize=(10,5))\n",
    "plot=sns.countplot(x=datos_cleaned.Income_Category,hue=datos_cleaned.Attrition_Flag, \n",
    "                   order=['-40K','40K-60K','60K-80K','80K-120K','+120K'])\n",
    "plt.title(\"Ingresos y Clientes\")\n",
    "\n",
    "total_40K = len(datos_cleaned[datos_cleaned['Income_Category'] == \"-40K\"])\n",
    "total_40K_60K = len(datos_cleaned[datos_cleaned['Income_Category'] == \"40K-60K\"])\n",
    "total_60K_80K = len(datos_cleaned[datos_cleaned['Income_Category'] == \"60K-80K\"])\n",
    "total_80K_120K = len(datos_cleaned[datos_cleaned['Income_Category'] == \"80K-120K\"])\n",
    "total_120K = len(datos_cleaned[datos_cleaned['Income_Category'] == \"+120K\"])\n",
    "i = 0\n",
    "for p in plot.patches:\n",
    "    if (i == 0 or i == 5):\n",
    "        percentage = '{:.1f}%'.format(100 * p.get_height()/total_40K)\n",
    "    elif (i == 1 or i == 6):\n",
    "        percentage = '{:.1f}%'.format(100 * p.get_height()/total_40K_60K)\n",
    "    elif (i == 2 or i == 7):\n",
    "        percentage = '{:.1f}%'.format(100 * p.get_height()/total_60K_80K)\n",
    "    elif (i == 3 or i == 8):\n",
    "        percentage = '{:.1f}%'.format(100 * p.get_height()/total_80K_120K)\n",
    "    else:\n",
    "        percentage = '{:.1f}%'.format(100 * p.get_height()/total_120K) \n",
    "    x = p.get_x() + p.get_width()/2\n",
    "    y = p.get_y() + p.get_height()/2\n",
    "    plot.annotate(percentage, (x, y), horizontalalignment='center', verticalalignment='center')\n",
    "    i+=1\n",
    "\n",
    "plt.show()"
   ]
  },
  {
   "cell_type": "code",
   "execution_count": 53,
   "metadata": {},
   "outputs": [
    {
     "data": {
      "image/png": "[encoded data removed]",
      "text/plain": [
       "<Figure size 720x360 with 1 Axes>"
      ]
     },
     "metadata": {
      "needs_background": "light"
     },
     "output_type": "display_data"
    }
   ],
   "source": [
    "plt.figure(figsize=(10,5))\n",
    "plot=sns.countplot(x=datos_cleaned.Dependent_count,hue=datos_cleaned.Attrition_Flag)\n",
    "\n",
    "total_0 = len(datos_cleaned[datos_cleaned['Dependent_count'] == 0])\n",
    "total_1 = len(datos_cleaned[datos_cleaned['Dependent_count'] == 1])\n",
    "total_2 = len(datos_cleaned[datos_cleaned['Dependent_count'] == 2])\n",
    "total_3 = len(datos_cleaned[datos_cleaned['Dependent_count'] == 3])\n",
    "total_4 = len(datos_cleaned[datos_cleaned['Dependent_count'] == 4])\n",
    "total_5 = len(datos_cleaned[datos_cleaned['Dependent_count'] == 5])\n",
    "i = 0\n",
    "for p in plot.patches:\n",
    "    if (i == 0 or i == 6):\n",
    "        percentage = '{:.1f}%'.format(100 * p.get_height()/total_0)\n",
    "    elif (i == 1 or i == 7):\n",
    "        percentage = '{:.1f}%'.format(100 * p.get_height()/total_1)\n",
    "    elif (i == 2 or i == 8):\n",
    "        percentage = '{:.1f}%'.format(100 * p.get_height()/total_2)\n",
    "    elif (i == 3 or i == 9):\n",
    "        percentage = '{:.1f}%'.format(100 * p.get_height()/total_3)\n",
    "    elif (i == 4 or i == 10):\n",
    "        percentage = '{:.1f}%'.format(100 * p.get_height()/total_4)\n",
    "    else:\n",
    "        percentage = '{:.1f}%'.format(100 * p.get_height()/total_5) \n",
    "    x = p.get_x() + p.get_width()/2\n",
    "    y = p.get_y() + p.get_height()/2\n",
    "    plot.annotate(percentage, (x, y), horizontalalignment='center', verticalalignment='center')\n",
    "    i+=1\n",
    "\n",
    "plt.show()"
   ]
  },
  {
   "cell_type": "code",
   "execution_count": 54,
   "metadata": {},
   "outputs": [
    {
     "data": {
      "image/png": "[encoded data removed]",
      "text/plain": [
       "<Figure size 1080x576 with 2 Axes>"
      ]
     },
     "metadata": {
      "needs_background": "light"
     },
     "output_type": "display_data"
    }
   ],
   "source": [
    "# Vamos a revisar la correlación de las variables numéricas entre si, con intención de no utilizar tantas variables para nuestro modelo.\n",
    "plt.figure(figsize=(15,8))\n",
    "sns.set_context(context='notebook',font_scale=.8)\n",
    "sns.heatmap(datos_cleaned.corr(method='pearson'),cmap=sns.diverging_palette(260, 300, n=20),annot=True,vmin = -1, vmax = 1)\n",
    "plt.tight_layout()"
   ]
  },
  {
   "cell_type": "markdown",
   "metadata": {},
   "source": [
    "Según los resultados deberiamos eliminar Avg_Open_to_Buy, Total_Trans_Amt y Total_Revolving_Bal"
   ]
  },
  {
   "cell_type": "code",
   "execution_count": 55,
   "metadata": {},
   "outputs": [
    {
     "data": {
      "text/html": [
       "<div>\n",
       "<style scoped>\n",
       "    .dataframe tbody tr th:only-of-type {\n",
       "        vertical-align: middle;\n",
       "    }\n",
       "\n",
       "    .dataframe tbody tr th {\n",
       "        vertical-align: top;\n",
       "    }\n",
       "\n",
       "    .dataframe thead th {\n",
       "        text-align: right;\n",
       "    }\n",
       "</style>\n",
       "<table border=\"1\" class=\"dataframe\">\n",
       "  <thead>\n",
       "    <tr style=\"text-align: right;\">\n",
       "      <th></th>\n",
       "      <th>Customer_Age</th>\n",
       "      <th>Dependent_count</th>\n",
       "      <th>Months_on_book</th>\n",
       "      <th>Total_Relationship_Count</th>\n",
       "      <th>Months_Inactive_12_mon</th>\n",
       "      <th>Contacts_Count_12_mon</th>\n",
       "      <th>Credit_Limit</th>\n",
       "      <th>Total_Revolving_Bal</th>\n",
       "      <th>Avg_Open_To_Buy</th>\n",
       "      <th>Total_Trans_Amt</th>\n",
       "      <th>...</th>\n",
       "      <th>Marital_Status_Single</th>\n",
       "      <th>Marital_Status_Unknown</th>\n",
       "      <th>Income_Category_-40K</th>\n",
       "      <th>Income_Category_40K-60K</th>\n",
       "      <th>Income_Category_60K-80K</th>\n",
       "      <th>Income_Category_80K-120K</th>\n",
       "      <th>Income_Category_Unknown</th>\n",
       "      <th>Card_Category_Gold</th>\n",
       "      <th>Card_Category_Platinum</th>\n",
       "      <th>Card_Category_Silver</th>\n",
       "    </tr>\n",
       "  </thead>\n",
       "  <tbody>\n",
       "    <tr>\n",
       "      <th>count</th>\n",
       "      <td>9560.000000</td>\n",
       "      <td>9560.000000</td>\n",
       "      <td>9560.000000</td>\n",
       "      <td>9560.000000</td>\n",
       "      <td>9560.000000</td>\n",
       "      <td>9560.000000</td>\n",
       "      <td>9560.000000</td>\n",
       "      <td>9560.000000</td>\n",
       "      <td>9560.000000</td>\n",
       "      <td>9560.000000</td>\n",
       "      <td>...</td>\n",
       "      <td>9560.000000</td>\n",
       "      <td>9560.000000</td>\n",
       "      <td>9560.000000</td>\n",
       "      <td>9560.000000</td>\n",
       "      <td>9560.000000</td>\n",
       "      <td>9560.000000</td>\n",
       "      <td>9560.000000</td>\n",
       "      <td>9560.000000</td>\n",
       "      <td>9560.000000</td>\n",
       "      <td>9560.000000</td>\n",
       "    </tr>\n",
       "    <tr>\n",
       "      <th>mean</th>\n",
       "      <td>46.360669</td>\n",
       "      <td>2.349477</td>\n",
       "      <td>35.963075</td>\n",
       "      <td>3.862029</td>\n",
       "      <td>2.297176</td>\n",
       "      <td>2.441213</td>\n",
       "      <td>8417.477406</td>\n",
       "      <td>1157.367364</td>\n",
       "      <td>7260.110042</td>\n",
       "      <td>3957.733159</td>\n",
       "      <td>...</td>\n",
       "      <td>0.390377</td>\n",
       "      <td>0.073954</td>\n",
       "      <td>0.354498</td>\n",
       "      <td>0.176674</td>\n",
       "      <td>0.136192</td>\n",
       "      <td>0.150941</td>\n",
       "      <td>0.110356</td>\n",
       "      <td>0.010042</td>\n",
       "      <td>0.001778</td>\n",
       "      <td>0.050314</td>\n",
       "    </tr>\n",
       "    <tr>\n",
       "      <th>std</th>\n",
       "      <td>8.002016</td>\n",
       "      <td>1.295917</td>\n",
       "      <td>7.949916</td>\n",
       "      <td>1.542677</td>\n",
       "      <td>0.930402</td>\n",
       "      <td>1.079871</td>\n",
       "      <td>8951.488151</td>\n",
       "      <td>816.042039</td>\n",
       "      <td>8958.310762</td>\n",
       "      <td>2614.715565</td>\n",
       "      <td>...</td>\n",
       "      <td>0.487860</td>\n",
       "      <td>0.261710</td>\n",
       "      <td>0.478386</td>\n",
       "      <td>0.381412</td>\n",
       "      <td>0.343011</td>\n",
       "      <td>0.358010</td>\n",
       "      <td>0.313349</td>\n",
       "      <td>0.099710</td>\n",
       "      <td>0.042134</td>\n",
       "      <td>0.218603</td>\n",
       "    </tr>\n",
       "    <tr>\n",
       "      <th>min</th>\n",
       "      <td>26.000000</td>\n",
       "      <td>0.000000</td>\n",
       "      <td>13.000000</td>\n",
       "      <td>1.000000</td>\n",
       "      <td>0.000000</td>\n",
       "      <td>0.000000</td>\n",
       "      <td>1438.300000</td>\n",
       "      <td>0.000000</td>\n",
       "      <td>3.000000</td>\n",
       "      <td>510.000000</td>\n",
       "      <td>...</td>\n",
       "      <td>0.000000</td>\n",
       "      <td>0.000000</td>\n",
       "      <td>0.000000</td>\n",
       "      <td>0.000000</td>\n",
       "      <td>0.000000</td>\n",
       "      <td>0.000000</td>\n",
       "      <td>0.000000</td>\n",
       "      <td>0.000000</td>\n",
       "      <td>0.000000</td>\n",
       "      <td>0.000000</td>\n",
       "    </tr>\n",
       "    <tr>\n",
       "      <th>25%</th>\n",
       "      <td>41.000000</td>\n",
       "      <td>1.000000</td>\n",
       "      <td>32.000000</td>\n",
       "      <td>3.000000</td>\n",
       "      <td>2.000000</td>\n",
       "      <td>2.000000</td>\n",
       "      <td>2506.000000</td>\n",
       "      <td>278.000000</td>\n",
       "      <td>1245.000000</td>\n",
       "      <td>2109.750000</td>\n",
       "      <td>...</td>\n",
       "      <td>0.000000</td>\n",
       "      <td>0.000000</td>\n",
       "      <td>0.000000</td>\n",
       "      <td>0.000000</td>\n",
       "      <td>0.000000</td>\n",
       "      <td>0.000000</td>\n",
       "      <td>0.000000</td>\n",
       "      <td>0.000000</td>\n",
       "      <td>0.000000</td>\n",
       "      <td>0.000000</td>\n",
       "    </tr>\n",
       "    <tr>\n",
       "      <th>50%</th>\n",
       "      <td>46.000000</td>\n",
       "      <td>2.000000</td>\n",
       "      <td>36.000000</td>\n",
       "      <td>4.000000</td>\n",
       "      <td>2.000000</td>\n",
       "      <td>2.000000</td>\n",
       "      <td>4396.500000</td>\n",
       "      <td>1271.000000</td>\n",
       "      <td>3326.000000</td>\n",
       "      <td>3814.000000</td>\n",
       "      <td>...</td>\n",
       "      <td>0.000000</td>\n",
       "      <td>0.000000</td>\n",
       "      <td>0.000000</td>\n",
       "      <td>0.000000</td>\n",
       "      <td>0.000000</td>\n",
       "      <td>0.000000</td>\n",
       "      <td>0.000000</td>\n",
       "      <td>0.000000</td>\n",
       "      <td>0.000000</td>\n",
       "      <td>0.000000</td>\n",
       "    </tr>\n",
       "    <tr>\n",
       "      <th>75%</th>\n",
       "      <td>52.000000</td>\n",
       "      <td>3.000000</td>\n",
       "      <td>40.000000</td>\n",
       "      <td>5.000000</td>\n",
       "      <td>3.000000</td>\n",
       "      <td>3.000000</td>\n",
       "      <td>10683.500000</td>\n",
       "      <td>1779.000000</td>\n",
       "      <td>9491.000000</td>\n",
       "      <td>4636.000000</td>\n",
       "      <td>...</td>\n",
       "      <td>1.000000</td>\n",
       "      <td>0.000000</td>\n",
       "      <td>1.000000</td>\n",
       "      <td>0.000000</td>\n",
       "      <td>0.000000</td>\n",
       "      <td>0.000000</td>\n",
       "      <td>0.000000</td>\n",
       "      <td>0.000000</td>\n",
       "      <td>0.000000</td>\n",
       "      <td>0.000000</td>\n",
       "    </tr>\n",
       "    <tr>\n",
       "      <th>max</th>\n",
       "      <td>70.000000</td>\n",
       "      <td>5.000000</td>\n",
       "      <td>56.000000</td>\n",
       "      <td>6.000000</td>\n",
       "      <td>5.000000</td>\n",
       "      <td>5.000000</td>\n",
       "      <td>34516.000000</td>\n",
       "      <td>2517.000000</td>\n",
       "      <td>34516.000000</td>\n",
       "      <td>14593.000000</td>\n",
       "      <td>...</td>\n",
       "      <td>1.000000</td>\n",
       "      <td>1.000000</td>\n",
       "      <td>1.000000</td>\n",
       "      <td>1.000000</td>\n",
       "      <td>1.000000</td>\n",
       "      <td>1.000000</td>\n",
       "      <td>1.000000</td>\n",
       "      <td>1.000000</td>\n",
       "      <td>1.000000</td>\n",
       "      <td>1.000000</td>\n",
       "    </tr>\n",
       "  </tbody>\n",
       "</table>\n",
       "<p>8 rows × 31 columns</p>\n",
       "</div>"
      ],
      "text/plain": [
       "       Customer_Age  Dependent_count  Months_on_book  \\\n",
       "count   9560.000000      9560.000000     9560.000000   \n",
       "mean      46.360669         2.349477       35.963075   \n",
       "std        8.002016         1.295917        7.949916   \n",
       "min       26.000000         0.000000       13.000000   \n",
       "25%       41.000000         1.000000       32.000000   \n",
       "50%       46.000000         2.000000       36.000000   \n",
       "75%       52.000000         3.000000       40.000000   \n",
       "max       70.000000         5.000000       56.000000   \n",
       "\n",
       "       Total_Relationship_Count  Months_Inactive_12_mon  \\\n",
       "count               9560.000000             9560.000000   \n",
       "mean                   3.862029                2.297176   \n",
       "std                    1.542677                0.930402   \n",
       "min                    1.000000                0.000000   \n",
       "25%                    3.000000                2.000000   \n",
       "50%                    4.000000                2.000000   \n",
       "75%                    5.000000                3.000000   \n",
       "max                    6.000000                5.000000   \n",
       "\n",
       "       Contacts_Count_12_mon  Credit_Limit  Total_Revolving_Bal  \\\n",
       "count            9560.000000   9560.000000          9560.000000   \n",
       "mean                2.441213   8417.477406          1157.367364   \n",
       "std                 1.079871   8951.488151           816.042039   \n",
       "min                 0.000000   1438.300000             0.000000   \n",
       "25%                 2.000000   2506.000000           278.000000   \n",
       "50%                 2.000000   4396.500000          1271.000000   \n",
       "75%                 3.000000  10683.500000          1779.000000   \n",
       "max                 5.000000  34516.000000          2517.000000   \n",
       "\n",
       "       Avg_Open_To_Buy  Total_Trans_Amt  ...  Marital_Status_Single  \\\n",
       "count      9560.000000      9560.000000  ...            9560.000000   \n",
       "mean       7260.110042      3957.733159  ...               0.390377   \n",
       "std        8958.310762      2614.715565  ...               0.487860   \n",
       "min           3.000000       510.000000  ...               0.000000   \n",
       "25%        1245.000000      2109.750000  ...               0.000000   \n",
       "50%        3326.000000      3814.000000  ...               0.000000   \n",
       "75%        9491.000000      4636.000000  ...               1.000000   \n",
       "max       34516.000000     14593.000000  ...               1.000000   \n",
       "\n",
       "       Marital_Status_Unknown  Income_Category_-40K  Income_Category_40K-60K  \\\n",
       "count             9560.000000           9560.000000              9560.000000   \n",
       "mean                 0.073954              0.354498                 0.176674   \n",
       "std                  0.261710              0.478386                 0.381412   \n",
       "min                  0.000000              0.000000                 0.000000   \n",
       "25%                  0.000000              0.000000                 0.000000   \n",
       "50%                  0.000000              0.000000                 0.000000   \n",
       "75%                  0.000000              1.000000                 0.000000   \n",
       "max                  1.000000              1.000000                 1.000000   \n",
       "\n",
       "       Income_Category_60K-80K  Income_Category_80K-120K  \\\n",
       "count              9560.000000               9560.000000   \n",
       "mean                  0.136192                  0.150941   \n",
       "std                   0.343011                  0.358010   \n",
       "min                   0.000000                  0.000000   \n",
       "25%                   0.000000                  0.000000   \n",
       "50%                   0.000000                  0.000000   \n",
       "75%                   0.000000                  0.000000   \n",
       "max                   1.000000                  1.000000   \n",
       "\n",
       "       Income_Category_Unknown  Card_Category_Gold  Card_Category_Platinum  \\\n",
       "count              9560.000000         9560.000000             9560.000000   \n",
       "mean                  0.110356            0.010042                0.001778   \n",
       "std                   0.313349            0.099710                0.042134   \n",
       "min                   0.000000            0.000000                0.000000   \n",
       "25%                   0.000000            0.000000                0.000000   \n",
       "50%                   0.000000            0.000000                0.000000   \n",
       "75%                   0.000000            0.000000                0.000000   \n",
       "max                   1.000000            1.000000                1.000000   \n",
       "\n",
       "       Card_Category_Silver  \n",
       "count           9560.000000  \n",
       "mean               0.050314  \n",
       "std                0.218603  \n",
       "min                0.000000  \n",
       "25%                0.000000  \n",
       "50%                0.000000  \n",
       "75%                0.000000  \n",
       "max                1.000000  \n",
       "\n",
       "[8 rows x 31 columns]"
      ]
     },
     "execution_count": 55,
     "metadata": {},
     "output_type": "execute_result"
    }
   ],
   "source": [
    "#Para poder clasificar las columnas necesitamos que todas las columnas sean numéricas, por lo que vamos a codificar las variable categóricas:\n",
    "data_num = pd.get_dummies(datos_cleaned, columns=['Attrition_Flag', 'Gender', 'Education_Level', 'Marital_Status', 'Income_Category', 'Card_Category'],drop_first=True)\n",
    "\n",
    "data_num.describe()"
   ]
  },
  {
   "cell_type": "code",
   "execution_count": 56,
   "metadata": {},
   "outputs": [
    {
     "data": {
      "text/plain": [
       "Index(['Customer_Age', 'Dependent_count', 'Months_on_book',\n",
       "       'Total_Relationship_Count', 'Months_Inactive_12_mon',\n",
       "       'Contacts_Count_12_mon', 'Credit_Limit', 'Total_Revolving_Bal',\n",
       "       'Avg_Open_To_Buy', 'Total_Trans_Amt', 'Total_Trans_Ct',\n",
       "       'Avg_Utilization_Ratio', 'Attrition_Flag_Existing Customer', 'Gender_M',\n",
       "       'Education_Level_Doctorate', 'Education_Level_Graduate',\n",
       "       'Education_Level_High School', 'Education_Level_Post-Graduate',\n",
       "       'Education_Level_Uneducated', 'Education_Level_Unknown',\n",
       "       'Marital_Status_Married', 'Marital_Status_Single',\n",
       "       'Marital_Status_Unknown', 'Income_Category_-40K',\n",
       "       'Income_Category_40K-60K', 'Income_Category_60K-80K',\n",
       "       'Income_Category_80K-120K', 'Income_Category_Unknown',\n",
       "       'Card_Category_Gold', 'Card_Category_Platinum', 'Card_Category_Silver'],\n",
       "      dtype='object')"
      ]
     },
     "execution_count": 56,
     "metadata": {},
     "output_type": "execute_result"
    }
   ],
   "source": [
    "data_num.columns"
   ]
  },
  {
   "cell_type": "code",
   "execution_count": 96,
   "metadata": {},
   "outputs": [
    {
     "data": {
      "text/plain": [
       "(9560, 27)"
      ]
     },
     "execution_count": 96,
     "metadata": {},
     "output_type": "execute_result"
    }
   ],
   "source": [
    "# Aplicamos el método de regresión logistica para poder clasificar nuestro sistema:\n",
    "# Borramos la que queremos clasificar (Attrition_Flag_Existing Customer) y las que hemos considerado que\n",
    "# no son necesarias tras calcular la correlación entre las variables:\n",
    "\n",
    "X = np.array(data_num.drop(['Attrition_Flag_Existing Customer','Avg_Open_To_Buy', 'Total_Trans_Amt', 'Total_Revolving_Bal'],1))\n",
    "y = np.array(data_num['Attrition_Flag_Existing Customer'])\n",
    "X.shape"
   ]
  },
  {
   "cell_type": "code",
   "execution_count": 97,
   "metadata": {},
   "outputs": [
    {
     "data": {
      "text/plain": [
       "LogisticRegression(C=1000, max_iter=50000)"
      ]
     },
     "execution_count": 97,
     "metadata": {},
     "output_type": "execute_result"
    }
   ],
   "source": [
    "from sklearn.linear_model import LogisticRegression\n",
    "# Vamos a crear el modelo, haciendo fit al conjunto de datos de entrada X y de salida Y\n",
    "model = LogisticRegression(C=1000,max_iter=50000)\n",
    "model.fit(X,y)"
   ]
  },
  {
   "cell_type": "code",
   "execution_count": 98,
   "metadata": {},
   "outputs": [
    {
     "name": "stdout",
     "output_type": "stream",
     "text": [
      "[1 1 1 ... 1 1 1]\n"
     ]
    }
   ],
   "source": [
    "#Clasificamos el conjuunto de entradas X, con el metodo predict.\n",
    "predictions = model.predict(X)\n",
    "print(predictions)"
   ]
  },
  {
   "cell_type": "code",
   "execution_count": 99,
   "metadata": {},
   "outputs": [
    {
     "name": "stdout",
     "output_type": "stream",
     "text": [
      "Precision media de las predicciones: \n"
     ]
    },
    {
     "data": {
      "text/plain": [
       "0.8746861924686192"
      ]
     },
     "execution_count": 99,
     "metadata": {},
     "output_type": "execute_result"
    }
   ],
   "source": [
    "print(\"Precision media de las predicciones: \")\n",
    "model.score(X,y)"
   ]
  },
  {
   "cell_type": "markdown",
   "metadata": {},
   "source": [
    "Confirmamos que nuestro modelo es bastante bueno, teniendo una precisión del 87.46%.\n",
    "Para poder validar el modelo, vamos a subdividir el conjunto de datos de entrada en un set de entrenamiento, y otro de validación (test)\n",
    "La subdivision elegida es 80% para entrenamiento y 20% para test."
   ]
  },
  {
   "cell_type": "code",
   "execution_count": 100,
   "metadata": {},
   "outputs": [],
   "source": [
    "from sklearn import model_selection\n",
    "validation_size=0.20\n",
    "X_train, X_test, Y_train, Y_test = model_selection.train_test_split(X, y, test_size=validation_size)"
   ]
  },
  {
   "cell_type": "code",
   "execution_count": 109,
   "metadata": {},
   "outputs": [
    {
     "name": "stdout",
     "output_type": "stream",
     "text": [
      "Cross_validation train:\n",
      "[0.8751634  0.86666667 0.87843137 0.86527142 0.87573578]\n",
      "\n",
      "\n",
      "Cross_validation test:\n",
      "[0.85900783 0.88250653 0.83507853 0.84816754 0.87696335]\n",
      "\n",
      "\n",
      "Precisión del conjunto de entrenamiento\n",
      "0.874\n",
      "\n"
     ]
    }
   ],
   "source": [
    "from sklearn.model_selection import cross_val_score\n",
    "model_LR = LogisticRegression(C=1000,max_iter=50000)\n",
    "model_LR_cv_tr=cross_val_score(model_LR,X_train,Y_train)\n",
    "print(\"Cross_validation train:\")\n",
    "print(model_LR_cv_tr)\n",
    "print(\"\\n\")\n",
    "model_LR.fit(X_train,Y_train)\n",
    "model_LR_cv_tr=cross_val_score(model_LR,X_test,Y_test)\n",
    "print(\"Cross_validation test:\")\n",
    "print(model_LR_cv_tr)\n",
    "print(\"\\n\")\n",
    "print(\"Precisión del conjunto de entrenamiento\")\n",
    "print(\"{:.3f}\\n\".format(model_LR.score(X_train,Y_train)))"
   ]
  },
  {
   "cell_type": "markdown",
   "metadata": {},
   "source": [
    "Con los datos de entrenamiento, nos da una precision del 87.4% (80% de los datos).\n",
    "Vamos a calcularlo con el 20% de los datos de test"
   ]
  },
  {
   "cell_type": "code",
   "execution_count": 117,
   "metadata": {},
   "outputs": [
    {
     "name": "stdout",
     "output_type": "stream",
     "text": [
      "Precisión del conjunto de test (con predictions)\n",
      "0.8640167364016736\n",
      "\n",
      "Precisión del conjunto de test\n",
      "0.864\n",
      "\n"
     ]
    }
   ],
   "source": [
    "from sklearn.metrics import accuracy_score\n",
    "predictions = model_LR.predict(X_test)\n",
    "print(\"Precisión del conjunto de test (con predictions)\")\n",
    "print(accuracy_score(Y_test, predictions))\n",
    "print(\"\\nPrecisión del conjunto de test\")\n",
    "print(\"{:.3f}\\n\".format(model_LR.score(X_test,Y_test)))"
   ]
  },
  {
   "cell_type": "markdown",
   "metadata": {},
   "source": [
    "En este caso, la muestra es menor, y la precisión es algo menor también, aunque sigue siendo una precisión del modelo bastante alta (86.4%).\n",
    "\n",
    "Para ver cuantos resultados equivocados ha predecido de cada clase, realizamos la matriz de confusion. Todos los valores que no se encuentran en la diagonal, son valores confundidos,\n",
    "es decir, hay 207 valores  que los predijo como Existing, y eran Attrited, y por el contrario 53 que eran Existing, los predijo como Attrited.\n",
    "\n",
    "-Existing 1\n",
    "\n",
    "-Attrited 0"
   ]
  },
  {
   "cell_type": "code",
   "execution_count": 112,
   "metadata": {},
   "outputs": [
    {
     "name": "stdout",
     "output_type": "stream",
     "text": [
      "[[ 107  207]\n",
      " [  53 1545]]\n"
     ]
    }
   ],
   "source": [
    "from sklearn.metrics import confusion_matrix\n",
    "print(confusion_matrix(Y_test, predictions))"
   ]
  },
  {
   "cell_type": "markdown",
   "metadata": {},
   "source": [
    "Vamos a utilizar un segundo método de predicción para poder comparar los resultados: KNeighborsClassifier()"
   ]
  },
  {
   "cell_type": "code",
   "execution_count": 91,
   "metadata": {},
   "outputs": [
    {
     "data": {
      "text/plain": [
       "([<matplotlib.axis.XTick at 0x7f9fb1dba950>,\n",
       "  <matplotlib.axis.XTick at 0x7f9fb1dba310>,\n",
       "  <matplotlib.axis.XTick at 0x7f9fb1d8de90>,\n",
       "  <matplotlib.axis.XTick at 0x7f9fb0a83910>,\n",
       "  <matplotlib.axis.XTick at 0x7f9fb02b1110>,\n",
       "  <matplotlib.axis.XTick at 0x7f9fb02b1790>,\n",
       "  <matplotlib.axis.XTick at 0x7f9fb02b1750>,\n",
       "  <matplotlib.axis.XTick at 0x7f9fb02b8150>,\n",
       "  <matplotlib.axis.XTick at 0x7f9fb02b86d0>,\n",
       "  <matplotlib.axis.XTick at 0x7f9fb0a83710>,\n",
       "  <matplotlib.axis.XTick at 0x7f9fb02b8090>,\n",
       "  <matplotlib.axis.XTick at 0x7f9fb02b8850>,\n",
       "  <matplotlib.axis.XTick at 0x7f9fb029c210>,\n",
       "  <matplotlib.axis.XTick at 0x7f9fb029c310>,\n",
       "  <matplotlib.axis.XTick at 0x7f9fb029c850>,\n",
       "  <matplotlib.axis.XTick at 0x7f9fb02d6210>,\n",
       "  <matplotlib.axis.XTick at 0x7f9fb02d6310>,\n",
       "  <matplotlib.axis.XTick at 0x7f9fb02d6850>,\n",
       "  <matplotlib.axis.XTick at 0x7f9fb02b8810>],\n",
       " [Text(0, 0, ''),\n",
       "  Text(0, 0, ''),\n",
       "  Text(0, 0, ''),\n",
       "  Text(0, 0, ''),\n",
       "  Text(0, 0, ''),\n",
       "  Text(0, 0, ''),\n",
       "  Text(0, 0, ''),\n",
       "  Text(0, 0, ''),\n",
       "  Text(0, 0, ''),\n",
       "  Text(0, 0, ''),\n",
       "  Text(0, 0, ''),\n",
       "  Text(0, 0, ''),\n",
       "  Text(0, 0, ''),\n",
       "  Text(0, 0, ''),\n",
       "  Text(0, 0, ''),\n",
       "  Text(0, 0, ''),\n",
       "  Text(0, 0, ''),\n",
       "  Text(0, 0, ''),\n",
       "  Text(0, 0, '')])"
      ]
     },
     "execution_count": 91,
     "metadata": {},
     "output_type": "execute_result"
    },
    {
     "data": {
      "image/png": "[encoded data removed]",
      "text/plain": [
       "<Figure size 432x288 with 1 Axes>"
      ]
     },
     "metadata": {
      "needs_background": "light"
     },
     "output_type": "display_data"
    }
   ],
   "source": [
    "from sklearn.neighbors import KNeighborsClassifier  \n",
    "#Antes de comenzar, debemos de elegir un número para \"k\".\n",
    "#Para ello, elegimos todos los valores del 1 al 20, y vemos cual es el que mejor se adapta a nuestro objetivo.\n",
    "k_range = range(1, 20)\n",
    "scores = []\n",
    "for k in k_range:\n",
    "    knn = KNeighborsClassifier(n_neighbors = k)\n",
    "    knn.fit(X_train, Y_train)\n",
    "    scores.append(knn.score(X_test, Y_test))\n",
    "plt.figure()\n",
    "plt.xlabel('k')\n",
    "plt.ylabel('Precisión')\n",
    "plt.scatter(k_range, scores)\n",
    "plt.xticks(range(1, 20))"
   ]
  },
  {
   "cell_type": "code",
   "execution_count": 88,
   "metadata": {},
   "outputs": [
    {
     "name": "stdout",
     "output_type": "stream",
     "text": [
      "Precisión del modelo para el conjunto de entrenamiento: 0.87\n",
      "Precisión del modelo para el conjunto de test: 0.86\n"
     ]
    }
   ],
   "source": [
    "#comprobamos que el mejor valor (mayor precisión), lo obtenemos en k=7\n",
    "n_neighbors=7\n",
    "knn = KNeighborsClassifier(n_neighbors)\n",
    "knn.fit(X_train, Y_train)\n",
    "print('Precisión del modelo para el conjunto de entrenamiento: {:.2f}'.format(knn.score(X_train, Y_train)))\n",
    "print('Precisión del modelo para el conjunto de test: {:.2f}'.format(knn.score(X_test, Y_test)))"
   ]
  },
  {
   "cell_type": "markdown",
   "metadata": {},
   "source": [
    "La precisión obtenida para este método es del 87% en el conjunto de datos de entrenamiento y del 86% para el caso de los datos de test.\n",
    "\n",
    "Calculamos la precision del modelo con la matriz de confusión sobre el conjunto de test."
   ]
  },
  {
   "cell_type": "code",
   "execution_count": 89,
   "metadata": {},
   "outputs": [
    {
     "name": "stdout",
     "output_type": "stream",
     "text": [
      "[[  91  228]\n",
      " [  46 1547]]\n"
     ]
    }
   ],
   "source": [
    "pred = knn.predict(X_test)\n",
    "print(confusion_matrix(Y_test, pred))"
   ]
  },
  {
   "cell_type": "code",
   "execution_count": 90,
   "metadata": {},
   "outputs": [
    {
     "name": "stdout",
     "output_type": "stream",
     "text": [
      "0.856694560669456\n"
     ]
    }
   ],
   "source": [
    "print(accuracy_score(Y_test, pred))"
   ]
  },
  {
   "cell_type": "markdown",
   "metadata": {},
   "source": [
    "En este caso, la muestra es menor, y la precisión es algo menor también, aunque sigue siendo una precisión del modelo bastante alta (85.6%).\n",
    "Para ver cuantos resultados equivocados ha predecido de cada clase, realizamos la matriz de confusion.\n",
    "Todos los valores que no se encuentran en la diagonal, son valores confundidos, es decir, hay 228 valores que los predijo como Existing, y eran Attrited, y por el contrario 46 que eran Existing, los predijo como Attrited.\n"
   ]
  }
 ],
 "metadata": {
  "kernelspec": {
   "display_name": "Python 3",
   "language": "python",
   "name": "python3"
  },
  "language_info": {
   "codemirror_mode": {
    "name": "ipython",
    "version": 3
   },
   "file_extension": ".py",
   "mimetype": "text/x-python",
   "name": "python",
   "nbconvert_exporter": "python",
   "pygments_lexer": "ipython3",
   "version": "3.7.4"
  }
 },
 "nbformat": 4,
 "nbformat_minor": 4
}
